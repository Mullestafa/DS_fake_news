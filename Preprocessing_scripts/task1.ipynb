{
 "cells": [
  {
   "cell_type": "code",
   "execution_count": 1,
   "metadata": {},
   "outputs": [],
   "source": [
    "import pandas as pd\n",
    "\n",
    "# importing data from csv file, using the first row as column labels 'headers'\n",
    "data = pd.read_csv('news_sample.csv', header = 0)"
   ]
  },
  {
   "cell_type": "code",
   "execution_count": 2,
   "metadata": {},
   "outputs": [],
   "source": [
    "from cleantext import clean\n",
    "\n",
    "# using the clean-text library to clean the text\n",
    "def clean_text(s):\n",
    "    return clean(s,lower=True,                     # lowercase text\n",
    "        no_urls=True,                  # replace all URLs with a special token\n",
    "        no_emails=True,                # replace all email addresses with a special token\n",
    "        no_numbers=True,               # replace all numbers with a special token\n",
    "        replace_with_url=\"<URL>\",\n",
    "        replace_with_email=\"<EMAIL>\",\n",
    "        replace_with_number=\"<NUM>\",\n",
    "        lang=\"en\"                   \n",
    "    )\n",
    "# the cleaned text is stored in a new column 'cleaned_content'\n",
    "data['cleaned_content'] = data['content'].apply(clean_text)"
   ]
  },
  {
   "cell_type": "code",
   "execution_count": 3,
   "metadata": {},
   "outputs": [],
   "source": [
    "import nltk\n",
    "from nltk.tokenize import  word_tokenize # this tokenizer is arbitrary, but we can use it for now and analyze the results later\n",
    "#nltk.download('punkt')\n",
    "\n",
    "data['processed_content'] = data['cleaned_content'].apply(lambda t : (word_tokenize(t)))\n",
    "word_frq_pre_stopwords_removal = nltk.FreqDist(data['processed_content'].sum())"
   ]
  },
  {
   "cell_type": "code",
   "execution_count": 4,
   "metadata": {},
   "outputs": [],
   "source": [
    "from nltk.corpus import stopwords\n",
    "# the following line must be uncommented first time this package is used in the environment\n",
    "#nltk.download('stopwords')\n",
    "\n",
    "def remove_stopwords(s):\n",
    "    # the stopwords from the library are put in a set for faster lookup\n",
    "    words_to_remove = set(stopwords.words('english')) # this line makes the code ~400x faster!\n",
    "    # checking each indiviudal token to see if its in the set of stopwords\n",
    "    return [w for w in s if w not in words_to_remove]\n",
    "# the stepwordless text is stored in a new column 'processed_content' overriding the previous data\n",
    "data['processed_content'] = data['processed_content'].apply(remove_stopwords)\n",
    "word_frq_post_stopwords_removal = nltk.FreqDist(data['processed_content'].sum())"
   ]
  },
  {
   "cell_type": "code",
   "execution_count": 5,
   "metadata": {},
   "outputs": [
    {
     "name": "stdout",
     "output_type": "stream",
     "text": [
      "vocab size before removing stopwords 16488\n",
      "token number before removing stopwords 201978\n",
      "vocab size after removing stopwords 16356\n",
      "token number after removing stopwords 127639\n",
      "vocab size reduction 0.8005822416302766 %\n",
      "token number reduction 36.80549366762717 %\n"
     ]
    }
   ],
   "source": [
    "print('vocab size before removing stopwords', len(word_frq_pre_stopwords_removal))\n",
    "print('token number before removing stopwords', sum(word_frq_pre_stopwords_removal.values()))\n",
    "print('vocab size after removing stopwords', len(word_frq_post_stopwords_removal))\n",
    "print('token number after removing stopwords', sum(word_frq_post_stopwords_removal.values()))\n",
    "print('vocab size reduction', (len(word_frq_pre_stopwords_removal) - len(word_frq_post_stopwords_removal)) / len(word_frq_pre_stopwords_removal) * 100, '%')\n",
    "print('token number reduction', (sum(word_frq_pre_stopwords_removal.values()) - sum(word_frq_post_stopwords_removal.values())) / sum(word_frq_pre_stopwords_removal.values()) * 100, '%')\n"
   ]
  },
  {
   "cell_type": "code",
   "execution_count": 7,
   "metadata": {},
   "outputs": [],
   "source": [
    "# import lemmatizer\n",
    "from nltk.stem import WordNetLemmatizer\n",
    "def lemmatize(s):\n",
    "    lemmatizer = WordNetLemmatizer()\n",
    "    return [lemmatizer.lemmatize(w) for w in s]\n",
    "# the lemmatized text is stored in a new column 'processed_content' overriding the previous data\n",
    "data['processed_content'] = data['processed_content'].apply(lemmatize)\n"
   ]
  },
  {
   "cell_type": "code",
   "execution_count": 9,
   "metadata": {},
   "outputs": [
    {
     "name": "stdout",
     "output_type": "stream",
     "text": [
      "vocab reduction after lemmatization 10.613842015162632 %\n"
     ]
    }
   ],
   "source": [
    "word_frq_post_lemmatization = nltk.FreqDist(data['processed_content'].sum())\n",
    "print('vocab reduction after lemmatization', (len(word_frq_post_stopwords_removal) - len(word_frq_post_lemmatization)) / len(word_frq_post_stopwords_removal) * 100, '%')"
   ]
  },
  {
   "cell_type": "code",
   "execution_count": 20,
   "metadata": {},
   "outputs": [],
   "source": [
    "from nltk.stem import PorterStemmer # this stemmer is arbitrary, but we can use it for now and analyze the results later\n",
    "# the following line must be uncommented first time this package is used in the environment\n",
    "#nltk.download('wordnet')\n",
    "\n",
    "# the stemmer reduces the tokens (words) to their root form\n",
    "def stem_words(l):\n",
    "    ps = PorterStemmer()\n",
    "    return [ps.stem(w) for w in l]\n",
    "# the stemmed text is stored in the column 'processed_content' overriding the previous data\n",
    "data['processed_content'] = data['processed_content'].apply(stem_words)"
   ]
  },
  {
   "cell_type": "code",
   "execution_count": 21,
   "metadata": {},
   "outputs": [
    {
     "name": "stdout",
     "output_type": "stream",
     "text": [
      "vocab reduction after stemming 31.445241278716423 %\n"
     ]
    }
   ],
   "source": [
    "word_frq_post_stemming = nltk.FreqDist(data['processed_content'].sum())\n",
    "print('vocab reduction after stemming', (len(word_frq_post_stopwords_removal) - len(word_frq_post_stemming)) / len(word_frq_post_stopwords_removal) * 100, '%')"
   ]
  }
 ],
 "metadata": {
  "kernelspec": {
   "display_name": "fakeNewsProject",
   "language": "python",
   "name": "python3"
  },
  "language_info": {
   "codemirror_mode": {
    "name": "ipython",
    "version": 3
   },
   "file_extension": ".py",
   "mimetype": "text/x-python",
   "name": "python",
   "nbconvert_exporter": "python",
   "pygments_lexer": "ipython3",
   "version": "3.9.16"
  },
  "orig_nbformat": 4,
  "vscode": {
   "interpreter": {
    "hash": "37ef1759c6e89e8d70b9e29662a61b8d9623ea595ee6c595f52ac5c809a12b57"
   }
  }
 },
 "nbformat": 4,
 "nbformat_minor": 2
}
