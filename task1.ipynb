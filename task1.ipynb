{
 "cells": [
  {
   "cell_type": "code",
   "execution_count": 65,
   "metadata": {},
   "outputs": [],
   "source": [
    "import pandas as pd\n",
    "\n",
    "# importing data from csv file, using the first row as column labels 'headers'\n",
    "data = pd.read_csv('news_sample.csv', header = 0)"
   ]
  },
  {
   "cell_type": "code",
   "execution_count": 66,
   "metadata": {},
   "outputs": [],
   "source": [
    "from cleantext import clean\n",
    "\n",
    "# using the clean-text library to clean the text\n",
    "def clean_text(s):\n",
    "    return clean(s,lower=True,                     # lowercase text\n",
    "        no_urls=True,                  # replace all URLs with a special token\n",
    "        no_emails=True,                # replace all email addresses with a special token\n",
    "        no_numbers=True,               # replace all numbers with a special token\n",
    "        replace_with_url=\"<URL>\",\n",
    "        replace_with_email=\"<EMAIL>\",\n",
    "        replace_with_number=\"<NUM>\",\n",
    "        lang=\"en\"                   \n",
    "    )\n",
    "# the cleaned text is stored in a new column 'cleaned_content'\n",
    "data['cleaned_content'] = data['content'].apply(clean_text)"
   ]
  },
  {
   "cell_type": "code",
   "execution_count": 67,
   "metadata": {},
   "outputs": [],
   "source": [
    "import nltk\n",
    "from nltk.tokenize import  word_tokenize # this tokenizer is arbitrary, but we can use it for now and analyze the results later\n",
    "#nltk.download('punkt')\n",
    "\n",
    "data['processed_content'] = data['cleaned_content'].apply(lambda t : (word_tokenize(t)))\n",
    "word_frq_pre_stopwords_removal = nltk.FreqDist(data['processed_content'].sum())"
   ]
  },
  {
   "cell_type": "code",
   "execution_count": 14,
   "metadata": {},
   "outputs": [
    {
     "ename": "KeyError",
     "evalue": "'processed_content'",
     "output_type": "error",
     "traceback": [
      "\u001b[1;31m---------------------------------------------------------------------------\u001b[0m",
      "\u001b[1;31mKeyError\u001b[0m                                  Traceback (most recent call last)",
      "File \u001b[1;32mc:\\Users\\musta\\anaconda3\\envs\\fakeNewsProject\\lib\\site-packages\\pandas\\core\\indexes\\base.py:3802\u001b[0m, in \u001b[0;36mIndex.get_loc\u001b[1;34m(self, key, method, tolerance)\u001b[0m\n\u001b[0;32m   3801\u001b[0m \u001b[39mtry\u001b[39;00m:\n\u001b[1;32m-> 3802\u001b[0m     \u001b[39mreturn\u001b[39;00m \u001b[39mself\u001b[39;49m\u001b[39m.\u001b[39;49m_engine\u001b[39m.\u001b[39;49mget_loc(casted_key)\n\u001b[0;32m   3803\u001b[0m \u001b[39mexcept\u001b[39;00m \u001b[39mKeyError\u001b[39;00m \u001b[39mas\u001b[39;00m err:\n",
      "File \u001b[1;32mc:\\Users\\musta\\anaconda3\\envs\\fakeNewsProject\\lib\\site-packages\\pandas\\_libs\\index.pyx:138\u001b[0m, in \u001b[0;36mpandas._libs.index.IndexEngine.get_loc\u001b[1;34m()\u001b[0m\n",
      "File \u001b[1;32mc:\\Users\\musta\\anaconda3\\envs\\fakeNewsProject\\lib\\site-packages\\pandas\\_libs\\index.pyx:165\u001b[0m, in \u001b[0;36mpandas._libs.index.IndexEngine.get_loc\u001b[1;34m()\u001b[0m\n",
      "File \u001b[1;32mpandas\\_libs\\hashtable_class_helper.pxi:5745\u001b[0m, in \u001b[0;36mpandas._libs.hashtable.PyObjectHashTable.get_item\u001b[1;34m()\u001b[0m\n",
      "File \u001b[1;32mpandas\\_libs\\hashtable_class_helper.pxi:5753\u001b[0m, in \u001b[0;36mpandas._libs.hashtable.PyObjectHashTable.get_item\u001b[1;34m()\u001b[0m\n",
      "\u001b[1;31mKeyError\u001b[0m: 'processed_content'",
      "\nThe above exception was the direct cause of the following exception:\n",
      "\u001b[1;31mKeyError\u001b[0m                                  Traceback (most recent call last)",
      "Cell \u001b[1;32mIn[14], line 11\u001b[0m\n\u001b[0;32m      9\u001b[0m     \u001b[39mreturn\u001b[39;00m [w \u001b[39mfor\u001b[39;00m w \u001b[39min\u001b[39;00m s \u001b[39mif\u001b[39;00m w \u001b[39mnot\u001b[39;00m \u001b[39min\u001b[39;00m words_to_remove]\n\u001b[0;32m     10\u001b[0m \u001b[39m# the stepwordless text is stored in a new column 'processed_content' overriding the previous data\u001b[39;00m\n\u001b[1;32m---> 11\u001b[0m data[\u001b[39m'\u001b[39m\u001b[39mprocessed_content\u001b[39m\u001b[39m'\u001b[39m] \u001b[39m=\u001b[39m data[\u001b[39m'\u001b[39;49m\u001b[39mprocessed_content\u001b[39;49m\u001b[39m'\u001b[39;49m]\u001b[39m.\u001b[39mapply(remove_stopwords)\n\u001b[0;32m     12\u001b[0m word_frq_post_stopwords_removal \u001b[39m=\u001b[39m nltk\u001b[39m.\u001b[39mFreqDist(data[\u001b[39m'\u001b[39m\u001b[39mprocessed_content\u001b[39m\u001b[39m'\u001b[39m]\u001b[39m.\u001b[39msum())\n",
      "File \u001b[1;32mc:\\Users\\musta\\anaconda3\\envs\\fakeNewsProject\\lib\\site-packages\\pandas\\core\\frame.py:3807\u001b[0m, in \u001b[0;36mDataFrame.__getitem__\u001b[1;34m(self, key)\u001b[0m\n\u001b[0;32m   3805\u001b[0m \u001b[39mif\u001b[39;00m \u001b[39mself\u001b[39m\u001b[39m.\u001b[39mcolumns\u001b[39m.\u001b[39mnlevels \u001b[39m>\u001b[39m \u001b[39m1\u001b[39m:\n\u001b[0;32m   3806\u001b[0m     \u001b[39mreturn\u001b[39;00m \u001b[39mself\u001b[39m\u001b[39m.\u001b[39m_getitem_multilevel(key)\n\u001b[1;32m-> 3807\u001b[0m indexer \u001b[39m=\u001b[39m \u001b[39mself\u001b[39;49m\u001b[39m.\u001b[39;49mcolumns\u001b[39m.\u001b[39;49mget_loc(key)\n\u001b[0;32m   3808\u001b[0m \u001b[39mif\u001b[39;00m is_integer(indexer):\n\u001b[0;32m   3809\u001b[0m     indexer \u001b[39m=\u001b[39m [indexer]\n",
      "File \u001b[1;32mc:\\Users\\musta\\anaconda3\\envs\\fakeNewsProject\\lib\\site-packages\\pandas\\core\\indexes\\base.py:3804\u001b[0m, in \u001b[0;36mIndex.get_loc\u001b[1;34m(self, key, method, tolerance)\u001b[0m\n\u001b[0;32m   3802\u001b[0m     \u001b[39mreturn\u001b[39;00m \u001b[39mself\u001b[39m\u001b[39m.\u001b[39m_engine\u001b[39m.\u001b[39mget_loc(casted_key)\n\u001b[0;32m   3803\u001b[0m \u001b[39mexcept\u001b[39;00m \u001b[39mKeyError\u001b[39;00m \u001b[39mas\u001b[39;00m err:\n\u001b[1;32m-> 3804\u001b[0m     \u001b[39mraise\u001b[39;00m \u001b[39mKeyError\u001b[39;00m(key) \u001b[39mfrom\u001b[39;00m \u001b[39merr\u001b[39;00m\n\u001b[0;32m   3805\u001b[0m \u001b[39mexcept\u001b[39;00m \u001b[39mTypeError\u001b[39;00m:\n\u001b[0;32m   3806\u001b[0m     \u001b[39m# If we have a listlike key, _check_indexing_error will raise\u001b[39;00m\n\u001b[0;32m   3807\u001b[0m     \u001b[39m#  InvalidIndexError. Otherwise we fall through and re-raise\u001b[39;00m\n\u001b[0;32m   3808\u001b[0m     \u001b[39m#  the TypeError.\u001b[39;00m\n\u001b[0;32m   3809\u001b[0m     \u001b[39mself\u001b[39m\u001b[39m.\u001b[39m_check_indexing_error(key)\n",
      "\u001b[1;31mKeyError\u001b[0m: 'processed_content'"
     ]
    }
   ],
   "source": [
    "from nltk.corpus import stopwords\n",
    "# the following line must be uncommented first time this package is used in the environment\n",
    "#nltk.download('stopwords')\n",
    "\n",
    "def remove_stopwords(s):\n",
    "    # the stopwords from the library are put in a set for faster lookup\n",
    "    words_to_remove = set(stopwords.words('english')) # this line makes the code ~400x faster!\n",
    "    # checking each indiviudal token to see if its in the set of stopwords\n",
    "    return [w for w in s if w not in words_to_remove]\n",
    "# the stepwordless text is stored in a new column 'processed_content' overriding the previous data\n",
    "data['processed_content'] = data['processed_content'].apply(remove_stopwords)\n",
    "word_frq_post_stopwords_removal = nltk.FreqDist(data['processed_content'].sum())"
   ]
  },
  {
   "cell_type": "code",
   "execution_count": 72,
   "metadata": {},
   "outputs": [
    {
     "name": "stdout",
     "output_type": "stream",
     "text": [
      "vocab size before removing stopwords 16586\n",
      "token number before removing stopwords 200995\n",
      "vocab size after removing stopwords 16454\n",
      "token number after removing stopwords 126763\n",
      "vocab size reduction 0.7958519233088147 %\n",
      "token number reduction 36.93226199656708 %\n"
     ]
    }
   ],
   "source": [
    "print('vocab size before removing stopwords', len(word_frq_pre_stopwords_removal))\n",
    "print('token number before removing stopwords', sum(word_frq_pre_stopwords_removal.values()))\n",
    "print('vocab size after removing stopwords', len(word_frq_post_stopwords_removal))\n",
    "print('token number after removing stopwords', sum(word_frq_post_stopwords_removal.values()))\n",
    "print('vocab size reduction', (len(word_frq_pre_stopwords_removal) - len(word_frq_post_stopwords_removal)) / len(word_frq_pre_stopwords_removal) * 100, '%')\n",
    "print('token number reduction', (sum(word_frq_pre_stopwords_removal.values()) - sum(word_frq_post_stopwords_removal.values())) / sum(word_frq_pre_stopwords_removal.values()) * 100, '%')\n"
   ]
  },
  {
   "cell_type": "code",
   "execution_count": 70,
   "metadata": {},
   "outputs": [],
   "source": [
    "from nltk.stem import PorterStemmer # this stemmer is arbitrary, but we can use it for now and analyze the results later\n",
    "# the following line must be uncommented first time this package is used in the environment\n",
    "#nltk.download('wordnet')\n",
    "\n",
    "# the stemmer reduces the tokens (words) to their root form\n",
    "def stem_words(l):\n",
    "    ps = PorterStemmer()\n",
    "    return [ps.stem(w) for w in l]\n",
    "# the stemmed text is stored in the column 'processed_content' overriding the previous data\n",
    "data['processed_content'] = data['processed_content'].apply(stem_words)"
   ]
  },
  {
   "cell_type": "code",
   "execution_count": 78,
   "metadata": {},
   "outputs": [
    {
     "name": "stdout",
     "output_type": "stream",
     "text": [
      "vocab reduction after stemming 31.445241278716423 %\n"
     ]
    }
   ],
   "source": [
    "word_frq_post_stemming = nltk.FreqDist(data['processed_content'].sum())\n",
    "print('vocab reduction after stemming', (len(word_frq_post_stopwords_removal) - len(word_frq_post_stemming)) / len(word_frq_post_stopwords_removal) * 100, '%')"
   ]
  }
 ],
 "metadata": {
  "kernelspec": {
   "display_name": "fakeNewsProject",
   "language": "python",
   "name": "python3"
  },
  "language_info": {
   "codemirror_mode": {
    "name": "ipython",
    "version": 3
   },
   "file_extension": ".py",
   "mimetype": "text/x-python",
   "name": "python",
   "nbconvert_exporter": "python",
   "pygments_lexer": "ipython3",
   "version": "3.9.16"
  },
  "orig_nbformat": 4,
  "vscode": {
   "interpreter": {
    "hash": "e8d7cf0ce3aaacb75b2914db7b9dafb2d26d63c92bd1cee8dba3ea41598bbe88"
   }
  }
 },
 "nbformat": 4,
 "nbformat_minor": 2
}
