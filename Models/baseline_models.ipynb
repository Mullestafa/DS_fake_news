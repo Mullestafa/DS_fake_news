{
 "cells": [
  {
   "cell_type": "code",
   "execution_count": 1,
   "metadata": {},
   "outputs": [],
   "source": [
    "from sklearn.metrics import f1_score\n",
    "from sklearn.dummy import DummyClassifier\n",
    "from sklearn.metrics import accuracy_score\n",
    "\n",
    "def dummy_model(X_train, y_train, X_test, y_test):\n",
    "    # making a baseline model\n",
    "\n",
    "    # create a dummy classifier\n",
    "    dummy_clf = DummyClassifier(strategy=\"most_frequent\")\n",
    "    # fit the classifier\n",
    "    dummy_clf.fit(X_train, y_train)\n",
    "\n",
    "    # predict the labels\n",
    "    y_pred = dummy_clf.predict(X_test)\n",
    "\n",
    "    # calculate the accuracy\n",
    "    print(accuracy_score(y_test, y_pred))\n",
    "    print(f1_score(y_test, y_pred, average='micro'))\n",
    "\n",
    "    return dummy_clf"
   ]
  },
  {
   "cell_type": "code",
   "execution_count": 2,
   "metadata": {},
   "outputs": [],
   "source": [
    "from sklearn.linear_model import LogisticRegression\n",
    "from sklearn.metrics import accuracy_score\n",
    "def logistic_regression(X_train, y_train, X_test, y_test, solver, penalty, c):\n",
    "    # making a baseline model\n",
    "\n",
    "    # create a dummy classifier\n",
    "    dummy_clf = LogisticRegression(max_iter=10000, solver=solver, penalty=penalty, C=c)\n",
    "    # fit the classifier\n",
    "    dummy_clf.fit(X_train, y_train)\n",
    "\n",
    "    # predict the labels\n",
    "    y_pred = dummy_clf.predict(X_test)\n",
    "\n",
    "    # calculate the accuracy\n",
    "    print(f'Accuracy of {solver} with penalty {penalty} with c = {c}: {accuracy_score(y_test, y_pred)}')\n",
    "    print(f1_score(y_test, y_pred, average='micro'))\n",
    "\n",
    "    return dummy_clf"
   ]
  },
  {
   "cell_type": "code",
   "execution_count": 3,
   "metadata": {},
   "outputs": [],
   "source": [
    "def logistic_regression_none(X_train, y_train, X_test, y_test, solver):\n",
    "    # making a baseline model\n",
    "\n",
    "    # create a dummy classifier\n",
    "    dummy_clf = LogisticRegression(max_iter=10000, solver=solver)\n",
    "    # fit the classifier\n",
    "    dummy_clf.fit(X_train, y_train)\n",
    "\n",
    "    # predict the labels\n",
    "    y_pred = dummy_clf.predict(X_test)\n",
    "\n",
    "    # calculate the accuracy\n",
    "    print(f'Accuracy of {solver} without penalty: {accuracy_score(y_test, y_pred)}')\n",
    "    print(f1_score(y_test, y_pred, average='micro'))\n",
    "\n",
    "    return dummy_clf"
   ]
  },
  {
   "cell_type": "code",
   "execution_count": 4,
   "metadata": {},
   "outputs": [],
   "source": [
    "import pandas as pd\n",
    "import re\n",
    "def load_data(input, nrows=None, columns=None):\n",
    "    # load from csv\n",
    "    df = pd.read_csv(input, nrows=nrows, usecols=columns)\n",
    "    pattern = re.compile(r'(?:\\'|\")([a-z0-9\"\\.+-/_=:`|~©™®▪♦🙂 ]*)(?:\\'|\"),')\n",
    "    df['content'] = df['0'].apply(lambda x: pattern.findall(x))\n",
    "    df.drop(['0'], axis=1, inplace=True)\n",
    "    return df"
   ]
  },
  {
   "cell_type": "code",
   "execution_count": 5,
   "metadata": {},
   "outputs": [],
   "source": [
    "from sklearn.model_selection import train_test_split\n",
    "def split_data(input, answers, test_size=0.1, val_size=0.1):\n",
    "    # split the data into train and test\n",
    "    X_train, X_test, y_train, y_test = train_test_split(input, answers, test_size=test_size+val_size, random_state=42)\n",
    "    # split the test data into test and validation\n",
    "    X_test, X_val, y_test, y_val = train_test_split(X_test, y_test, test_size=val_size/(test_size+val_size), random_state=42)\n",
    "    return X_train, X_test, y_train, y_test, X_val, y_val"
   ]
  },
  {
   "cell_type": "code",
   "execution_count": 6,
   "metadata": {},
   "outputs": [],
   "source": [
    "def pad_series(series, maxlen):\n",
    "    # truncate the series\n",
    "    series = series.apply(lambda x: x[:maxlen])\n",
    "    # pad the series\n",
    "    return series.apply(lambda x: x + ['']*(maxlen-len(x)))"
   ]
  },
  {
   "cell_type": "code",
   "execution_count": 7,
   "metadata": {},
   "outputs": [],
   "source": [
    "def load_vocab(input):\n",
    "    vocab = pd.read_pickle('D:/Fake News Project/file.pkl')\n",
    "    # the vocab is a list of tuples (word, count)\n",
    "    # filter out words that appear less than 2000 times\n",
    "    vocab = [word for word, count in vocab if count > 2000]\n",
    "    return vocab"
   ]
  },
  {
   "cell_type": "code",
   "execution_count": 8,
   "metadata": {},
   "outputs": [],
   "source": [
    "from sklearn.feature_extraction.text import CountVectorizer\n",
    "bow_converter = CountVectorizer(vocabulary=load_vocab('D:/Fake News Project/file.pkl'))\n",
    "def bow_transformer(series):\n",
    "    # transform the series into bag of words\n",
    "    return bow_converter.transform(series.apply(lambda x: ' '.join(x)))\n",
    "\n",
    "\n"
   ]
  },
  {
   "cell_type": "code",
   "execution_count": 46,
   "metadata": {},
   "outputs": [],
   "source": [
    "#loading data\n",
    "df = load_data('fake_news_cleaned_filtered.csv', nrows=1000)  \n"
   ]
  },
  {
   "cell_type": "code",
   "execution_count": 47,
   "metadata": {},
   "outputs": [],
   "source": [
    "types_df =  pd.read_csv('fake_news_cleaned.csv', nrows=1000, usecols=['type'], dtype={'tags': 'object', 'type': pd.api.types.CategoricalDtype(['unreliable', 'fake', 'clickbait', 'conspiracy', 'reliable', 'bias', 'hate', 'junksci', 'political'])})\n",
    "df['type'] = types_df['type']"
   ]
  },
  {
   "cell_type": "code",
   "execution_count": 48,
   "metadata": {},
   "outputs": [],
   "source": [
    "def labelEncoder(label):\n",
    "    if label in ['bias', 'clickbait', 'conspiracy', 'political', 'reliable', 'rumor', 'satire']:\n",
    "        return(0)\n",
    "    else:\n",
    "        return(1)\n"
   ]
  },
  {
   "cell_type": "code",
   "execution_count": 49,
   "metadata": {},
   "outputs": [],
   "source": [
    "# convert types to unique numbers\n",
    "df = df.dropna(subset=['type'])\n",
    "df['type2'] = df['type'].apply(labelEncoder)"
   ]
  },
  {
   "cell_type": "code",
   "execution_count": 50,
   "metadata": {},
   "outputs": [],
   "source": [
    "bow = bow_transformer(df['content'])"
   ]
  },
  {
   "cell_type": "code",
   "execution_count": 51,
   "metadata": {},
   "outputs": [],
   "source": [
    "#splitting data\n",
    "X_train, X_test, y_train, y_test, X_val, y_val = split_data(bow, df['type2'], test_size=0.1, val_size=0.1)"
   ]
  },
  {
   "cell_type": "code",
   "execution_count": 52,
   "metadata": {},
   "outputs": [
    {
     "name": "stdout",
     "output_type": "stream",
     "text": [
      "0.4659090909090909\n",
      "0.4659090909090909\n"
     ]
    },
    {
     "data": {
      "text/html": [
       "<style>#sk-container-id-5 {color: black;background-color: white;}#sk-container-id-5 pre{padding: 0;}#sk-container-id-5 div.sk-toggleable {background-color: white;}#sk-container-id-5 label.sk-toggleable__label {cursor: pointer;display: block;width: 100%;margin-bottom: 0;padding: 0.3em;box-sizing: border-box;text-align: center;}#sk-container-id-5 label.sk-toggleable__label-arrow:before {content: \"▸\";float: left;margin-right: 0.25em;color: #696969;}#sk-container-id-5 label.sk-toggleable__label-arrow:hover:before {color: black;}#sk-container-id-5 div.sk-estimator:hover label.sk-toggleable__label-arrow:before {color: black;}#sk-container-id-5 div.sk-toggleable__content {max-height: 0;max-width: 0;overflow: hidden;text-align: left;background-color: #f0f8ff;}#sk-container-id-5 div.sk-toggleable__content pre {margin: 0.2em;color: black;border-radius: 0.25em;background-color: #f0f8ff;}#sk-container-id-5 input.sk-toggleable__control:checked~div.sk-toggleable__content {max-height: 200px;max-width: 100%;overflow: auto;}#sk-container-id-5 input.sk-toggleable__control:checked~label.sk-toggleable__label-arrow:before {content: \"▾\";}#sk-container-id-5 div.sk-estimator input.sk-toggleable__control:checked~label.sk-toggleable__label {background-color: #d4ebff;}#sk-container-id-5 div.sk-label input.sk-toggleable__control:checked~label.sk-toggleable__label {background-color: #d4ebff;}#sk-container-id-5 input.sk-hidden--visually {border: 0;clip: rect(1px 1px 1px 1px);clip: rect(1px, 1px, 1px, 1px);height: 1px;margin: -1px;overflow: hidden;padding: 0;position: absolute;width: 1px;}#sk-container-id-5 div.sk-estimator {font-family: monospace;background-color: #f0f8ff;border: 1px dotted black;border-radius: 0.25em;box-sizing: border-box;margin-bottom: 0.5em;}#sk-container-id-5 div.sk-estimator:hover {background-color: #d4ebff;}#sk-container-id-5 div.sk-parallel-item::after {content: \"\";width: 100%;border-bottom: 1px solid gray;flex-grow: 1;}#sk-container-id-5 div.sk-label:hover label.sk-toggleable__label {background-color: #d4ebff;}#sk-container-id-5 div.sk-serial::before {content: \"\";position: absolute;border-left: 1px solid gray;box-sizing: border-box;top: 0;bottom: 0;left: 50%;z-index: 0;}#sk-container-id-5 div.sk-serial {display: flex;flex-direction: column;align-items: center;background-color: white;padding-right: 0.2em;padding-left: 0.2em;position: relative;}#sk-container-id-5 div.sk-item {position: relative;z-index: 1;}#sk-container-id-5 div.sk-parallel {display: flex;align-items: stretch;justify-content: center;background-color: white;position: relative;}#sk-container-id-5 div.sk-item::before, #sk-container-id-5 div.sk-parallel-item::before {content: \"\";position: absolute;border-left: 1px solid gray;box-sizing: border-box;top: 0;bottom: 0;left: 50%;z-index: -1;}#sk-container-id-5 div.sk-parallel-item {display: flex;flex-direction: column;z-index: 1;position: relative;background-color: white;}#sk-container-id-5 div.sk-parallel-item:first-child::after {align-self: flex-end;width: 50%;}#sk-container-id-5 div.sk-parallel-item:last-child::after {align-self: flex-start;width: 50%;}#sk-container-id-5 div.sk-parallel-item:only-child::after {width: 0;}#sk-container-id-5 div.sk-dashed-wrapped {border: 1px dashed gray;margin: 0 0.4em 0.5em 0.4em;box-sizing: border-box;padding-bottom: 0.4em;background-color: white;}#sk-container-id-5 div.sk-label label {font-family: monospace;font-weight: bold;display: inline-block;line-height: 1.2em;}#sk-container-id-5 div.sk-label-container {text-align: center;}#sk-container-id-5 div.sk-container {/* jupyter's `normalize.less` sets `[hidden] { display: none; }` but bootstrap.min.css set `[hidden] { display: none !important; }` so we also need the `!important` here to be able to override the default hidden behavior on the sphinx rendered scikit-learn.org. See: https://github.com/scikit-learn/scikit-learn/issues/21755 */display: inline-block !important;position: relative;}#sk-container-id-5 div.sk-text-repr-fallback {display: none;}</style><div id=\"sk-container-id-5\" class=\"sk-top-container\"><div class=\"sk-text-repr-fallback\"><pre>DummyClassifier(strategy=&#x27;most_frequent&#x27;)</pre><b>In a Jupyter environment, please rerun this cell to show the HTML representation or trust the notebook. <br />On GitHub, the HTML representation is unable to render, please try loading this page with nbviewer.org.</b></div><div class=\"sk-container\" hidden><div class=\"sk-item\"><div class=\"sk-estimator sk-toggleable\"><input class=\"sk-toggleable__control sk-hidden--visually\" id=\"sk-estimator-id-5\" type=\"checkbox\" checked><label for=\"sk-estimator-id-5\" class=\"sk-toggleable__label sk-toggleable__label-arrow\">DummyClassifier</label><div class=\"sk-toggleable__content\"><pre>DummyClassifier(strategy=&#x27;most_frequent&#x27;)</pre></div></div></div></div></div>"
      ],
      "text/plain": [
       "DummyClassifier(strategy='most_frequent')"
      ]
     },
     "execution_count": 52,
     "metadata": {},
     "output_type": "execute_result"
    }
   ],
   "source": [
    "dummy_model(X_train, y_train, X_test, y_test)"
   ]
  },
  {
   "cell_type": "code",
   "execution_count": 53,
   "metadata": {},
   "outputs": [
    {
     "name": "stdout",
     "output_type": "stream",
     "text": [
      "Accuracy of lbfgs without penalty: 0.797752808988764\n",
      "0.797752808988764\n",
      "Accuracy of lbfgs with penalty l2 with c = 0.001: 0.7865168539325843\n",
      "0.7865168539325842\n",
      "Accuracy of lbfgs with penalty l2 with c = 0.01: 0.8426966292134831\n",
      "0.842696629213483\n",
      "Accuracy of lbfgs with penalty l2 with c = 0.1: 0.8314606741573034\n",
      "0.8314606741573034\n",
      "Accuracy of lbfgs with penalty l2 with c = 1: 0.797752808988764\n",
      "0.797752808988764\n",
      "Accuracy of liblinear without penalty: 0.797752808988764\n",
      "0.797752808988764\n",
      "Accuracy of liblinear with penalty l2 with c = 0.001: 0.8651685393258427\n",
      "0.8651685393258428\n",
      "Accuracy of liblinear with penalty l2 with c = 0.01: 0.8314606741573034\n",
      "0.8314606741573034\n",
      "Accuracy of liblinear with penalty l2 with c = 0.1: 0.8089887640449438\n",
      "0.8089887640449437\n",
      "Accuracy of liblinear with penalty l2 with c = 1: 0.797752808988764\n",
      "0.797752808988764\n",
      "Accuracy of newton-cg without penalty: 0.797752808988764\n",
      "0.797752808988764\n",
      "Accuracy of newton-cg with penalty l2 with c = 0.001: 0.7865168539325843\n",
      "0.7865168539325842\n",
      "Accuracy of newton-cg with penalty l2 with c = 0.01: 0.8426966292134831\n",
      "0.842696629213483\n",
      "Accuracy of newton-cg with penalty l2 with c = 0.1: 0.8314606741573034\n",
      "0.8314606741573034\n",
      "Accuracy of newton-cg with penalty l2 with c = 1: 0.797752808988764\n",
      "0.797752808988764\n",
      "Accuracy of sag without penalty: 0.7865168539325843\n",
      "0.7865168539325842\n",
      "Accuracy of sag with penalty l2 with c = 0.001: 0.8426966292134831\n",
      "0.842696629213483\n",
      "Accuracy of sag with penalty l2 with c = 0.01: 0.8089887640449438\n",
      "0.8089887640449437\n",
      "Accuracy of sag with penalty l2 with c = 0.1: 0.7752808988764045\n",
      "0.7752808988764045\n",
      "Accuracy of sag with penalty l2 with c = 1: 0.7865168539325843\n",
      "0.7865168539325842\n",
      "Accuracy of saga without penalty: 0.7752808988764045\n",
      "0.7752808988764045\n",
      "Accuracy of saga with penalty l2 with c = 0.001: 0.8426966292134831\n",
      "0.842696629213483\n",
      "Accuracy of saga with penalty l2 with c = 0.01: 0.8089887640449438\n",
      "0.8089887640449437\n",
      "Accuracy of saga with penalty l2 with c = 0.1: 0.7752808988764045\n",
      "0.7752808988764045\n",
      "Accuracy of saga with penalty l2 with c = 1: 0.7752808988764045\n",
      "0.7752808988764045\n"
     ]
    },
    {
     "data": {
      "text/html": [
       "<style>#sk-container-id-6 {color: black;background-color: white;}#sk-container-id-6 pre{padding: 0;}#sk-container-id-6 div.sk-toggleable {background-color: white;}#sk-container-id-6 label.sk-toggleable__label {cursor: pointer;display: block;width: 100%;margin-bottom: 0;padding: 0.3em;box-sizing: border-box;text-align: center;}#sk-container-id-6 label.sk-toggleable__label-arrow:before {content: \"▸\";float: left;margin-right: 0.25em;color: #696969;}#sk-container-id-6 label.sk-toggleable__label-arrow:hover:before {color: black;}#sk-container-id-6 div.sk-estimator:hover label.sk-toggleable__label-arrow:before {color: black;}#sk-container-id-6 div.sk-toggleable__content {max-height: 0;max-width: 0;overflow: hidden;text-align: left;background-color: #f0f8ff;}#sk-container-id-6 div.sk-toggleable__content pre {margin: 0.2em;color: black;border-radius: 0.25em;background-color: #f0f8ff;}#sk-container-id-6 input.sk-toggleable__control:checked~div.sk-toggleable__content {max-height: 200px;max-width: 100%;overflow: auto;}#sk-container-id-6 input.sk-toggleable__control:checked~label.sk-toggleable__label-arrow:before {content: \"▾\";}#sk-container-id-6 div.sk-estimator input.sk-toggleable__control:checked~label.sk-toggleable__label {background-color: #d4ebff;}#sk-container-id-6 div.sk-label input.sk-toggleable__control:checked~label.sk-toggleable__label {background-color: #d4ebff;}#sk-container-id-6 input.sk-hidden--visually {border: 0;clip: rect(1px 1px 1px 1px);clip: rect(1px, 1px, 1px, 1px);height: 1px;margin: -1px;overflow: hidden;padding: 0;position: absolute;width: 1px;}#sk-container-id-6 div.sk-estimator {font-family: monospace;background-color: #f0f8ff;border: 1px dotted black;border-radius: 0.25em;box-sizing: border-box;margin-bottom: 0.5em;}#sk-container-id-6 div.sk-estimator:hover {background-color: #d4ebff;}#sk-container-id-6 div.sk-parallel-item::after {content: \"\";width: 100%;border-bottom: 1px solid gray;flex-grow: 1;}#sk-container-id-6 div.sk-label:hover label.sk-toggleable__label {background-color: #d4ebff;}#sk-container-id-6 div.sk-serial::before {content: \"\";position: absolute;border-left: 1px solid gray;box-sizing: border-box;top: 0;bottom: 0;left: 50%;z-index: 0;}#sk-container-id-6 div.sk-serial {display: flex;flex-direction: column;align-items: center;background-color: white;padding-right: 0.2em;padding-left: 0.2em;position: relative;}#sk-container-id-6 div.sk-item {position: relative;z-index: 1;}#sk-container-id-6 div.sk-parallel {display: flex;align-items: stretch;justify-content: center;background-color: white;position: relative;}#sk-container-id-6 div.sk-item::before, #sk-container-id-6 div.sk-parallel-item::before {content: \"\";position: absolute;border-left: 1px solid gray;box-sizing: border-box;top: 0;bottom: 0;left: 50%;z-index: -1;}#sk-container-id-6 div.sk-parallel-item {display: flex;flex-direction: column;z-index: 1;position: relative;background-color: white;}#sk-container-id-6 div.sk-parallel-item:first-child::after {align-self: flex-end;width: 50%;}#sk-container-id-6 div.sk-parallel-item:last-child::after {align-self: flex-start;width: 50%;}#sk-container-id-6 div.sk-parallel-item:only-child::after {width: 0;}#sk-container-id-6 div.sk-dashed-wrapped {border: 1px dashed gray;margin: 0 0.4em 0.5em 0.4em;box-sizing: border-box;padding-bottom: 0.4em;background-color: white;}#sk-container-id-6 div.sk-label label {font-family: monospace;font-weight: bold;display: inline-block;line-height: 1.2em;}#sk-container-id-6 div.sk-label-container {text-align: center;}#sk-container-id-6 div.sk-container {/* jupyter's `normalize.less` sets `[hidden] { display: none; }` but bootstrap.min.css set `[hidden] { display: none !important; }` so we also need the `!important` here to be able to override the default hidden behavior on the sphinx rendered scikit-learn.org. See: https://github.com/scikit-learn/scikit-learn/issues/21755 */display: inline-block !important;position: relative;}#sk-container-id-6 div.sk-text-repr-fallback {display: none;}</style><div id=\"sk-container-id-6\" class=\"sk-top-container\"><div class=\"sk-text-repr-fallback\"><pre>LogisticRegression(C=1, max_iter=10000, solver=&#x27;saga&#x27;)</pre><b>In a Jupyter environment, please rerun this cell to show the HTML representation or trust the notebook. <br />On GitHub, the HTML representation is unable to render, please try loading this page with nbviewer.org.</b></div><div class=\"sk-container\" hidden><div class=\"sk-item\"><div class=\"sk-estimator sk-toggleable\"><input class=\"sk-toggleable__control sk-hidden--visually\" id=\"sk-estimator-id-6\" type=\"checkbox\" checked><label for=\"sk-estimator-id-6\" class=\"sk-toggleable__label sk-toggleable__label-arrow\">LogisticRegression</label><div class=\"sk-toggleable__content\"><pre>LogisticRegression(C=1, max_iter=10000, solver=&#x27;saga&#x27;)</pre></div></div></div></div></div>"
      ],
      "text/plain": [
       "LogisticRegression(C=1, max_iter=10000, solver='saga')"
      ]
     },
     "execution_count": 53,
     "metadata": {},
     "output_type": "execute_result"
    }
   ],
   "source": [
    "logistic_regression_none(X_train, y_train, X_val, y_val, 'lbfgs')\n",
    "logistic_regression(X_train, y_train, X_val, y_val, 'lbfgs', 'l2', 0.001)\n",
    "logistic_regression(X_train, y_train, X_val, y_val, 'lbfgs', 'l2', 0.01)\n",
    "logistic_regression(X_train, y_train, X_val, y_val, 'lbfgs', 'l2', 0.1)\n",
    "logistic_regression(X_train, y_train, X_val, y_val, 'lbfgs', 'l2', 1)\n",
    "logistic_regression_none(X_train, y_train, X_val, y_val, 'liblinear')\n",
    "logistic_regression(X_train, y_train, X_val, y_val, 'liblinear', 'l2', 0.001)\n",
    "logistic_regression(X_train, y_train, X_val, y_val, 'liblinear', 'l2', 0.01)\n",
    "logistic_regression(X_train, y_train, X_val, y_val, 'liblinear', 'l2', 0.1)\n",
    "logistic_regression(X_train, y_train, X_val, y_val, 'liblinear', 'l2', 1)\n",
    "logistic_regression_none(X_train, y_train, X_val, y_val, 'newton-cg')\n",
    "logistic_regression(X_train, y_train, X_val, y_val, 'newton-cg', 'l2', 0.001)\n",
    "logistic_regression(X_train, y_train, X_val, y_val, 'newton-cg', 'l2', 0.01)\n",
    "logistic_regression(X_train, y_train, X_val, y_val, 'newton-cg', 'l2', 0.1)\n",
    "logistic_regression(X_train, y_train, X_val, y_val, 'newton-cg', 'l2', 1)\n",
    "logistic_regression_none(X_train, y_train, X_val, y_val, 'sag')\n",
    "logistic_regression(X_train, y_train, X_val, y_val, 'sag', 'l2', 0.001)\n",
    "logistic_regression(X_train, y_train, X_val, y_val, 'sag', 'l2', 0.01)\n",
    "logistic_regression(X_train, y_train, X_val, y_val, 'sag', 'l2', 0.1)\n",
    "logistic_regression(X_train, y_train, X_val, y_val, 'sag', 'l2', 1)\n",
    "logistic_regression_none(X_train, y_train, X_val, y_val, 'saga')\n",
    "logistic_regression(X_train, y_train, X_val, y_val, 'saga', 'l2', 0.001)\n",
    "logistic_regression(X_train, y_train, X_val, y_val, 'saga', 'l2', 0.01)\n",
    "logistic_regression(X_train, y_train, X_val, y_val, 'saga', 'l2', 0.1)\n",
    "logistic_regression(X_train, y_train, X_val, y_val, 'saga', 'l2', 1)\n"
   ]
  },
  {
   "cell_type": "code",
   "execution_count": 64,
   "metadata": {},
   "outputs": [
    {
     "name": "stdout",
     "output_type": "stream",
     "text": [
      "Accuracy of liblinear with penalty l2 with c = 0.001: 0.7159090909090909\n",
      "0.715909090909091\n",
      "0.4659090909090909\n",
      "0.4659090909090909\n"
     ]
    }
   ],
   "source": [
    "model_used_logit = logistic_regression(X_train, y_train, X_test, y_test, 'liblinear', 'l2', 0.001)\n",
    "model_used_dummy = dummy_model(X_train, y_train, X_test, y_test)"
   ]
  },
  {
   "cell_type": "code",
   "execution_count": 24,
   "metadata": {},
   "outputs": [],
   "source": [
    "#Preprocessing:\n",
    "#Text Cleaning\n",
    "from cleantext import clean\n",
    "#Text Tokenization\n",
    "from nltk.tokenize import word_tokenize\n",
    "import nltk\n",
    "#Text Stopwords\n",
    "from nltk.corpus import stopwords\n",
    "#Text lemmetization\n",
    "from nltk.stem import WordNetLemmatizer\n",
    "#Text punctiuation\n",
    "import string\n",
    "#Plotting\n",
    "import matplotlib.pyplot as plt"
   ]
  },
  {
   "cell_type": "code",
   "execution_count": 25,
   "metadata": {},
   "outputs": [],
   "source": [
    "#Clean text:\n",
    "def clean_text(text):\n",
    "    return clean(text,lower=True,                     # lowercase text\n",
    "        no_urls=True,                  # replace all URLs with a special token\n",
    "        no_emails=True,                # replace all email addresses with a special token\n",
    "        no_numbers=True,               # replace all numbers with a special token\n",
    "        replace_with_url=\"<URL>\",\n",
    "        replace_with_email=\"<EMAIL>\",\n",
    "        replace_with_number=\"<NUM>\",\n",
    "        lang=\"en\"                   \n",
    "    )"
   ]
  },
  {
   "cell_type": "code",
   "execution_count": 26,
   "metadata": {},
   "outputs": [],
   "source": [
    "#Remove stopwords text\n",
    "def remove_stopwords(list_of_words):\n",
    "    stop_words = set(stopwords.words('english'))\n",
    "\n",
    "    return(list(filter(lambda word: word not in stop_words, list_of_words)))"
   ]
  },
  {
   "cell_type": "code",
   "execution_count": 27,
   "metadata": {},
   "outputs": [],
   "source": [
    "#Lemmetize text\n",
    "def lemmatize(list_of_words):\n",
    "    lemmatizer = WordNetLemmatizer()\n",
    "\n",
    "    return(list(lemmatizer.lemmatize(word) for word in list_of_words))"
   ]
  },
  {
   "cell_type": "code",
   "execution_count": 28,
   "metadata": {},
   "outputs": [],
   "source": [
    "# remove punctiuation\n",
    "def remove_punctuation(list_of_words):\n",
    "    return(list(filter(lambda word: word not in string.punctuation, list_of_words)))"
   ]
  },
  {
   "cell_type": "code",
   "execution_count": 29,
   "metadata": {},
   "outputs": [],
   "source": [
    "def labelEncoder2(label):\n",
    "    if label in ['true', 'mostly-true', 'half-true']:\n",
    "        return(0)\n",
    "    else:\n",
    "        return(1)"
   ]
  },
  {
   "cell_type": "code",
   "execution_count": 59,
   "metadata": {},
   "outputs": [],
   "source": [
    "import dask.dataframe as dd\n",
    "from dask.diagnostics import ProgressBar\n",
    "ddf = dd.read_csv('test.tsv', sep='\\t', blocksize=\"1GB\", names=['json', 'type', 'content', 'a', 'b', 'c', 'd', 'e', 'a1', 'b1', 'c1', 'd1', 'e1', 'a2'], on_bad_lines='skip', engine='python')#dtype={'tags': 'object', 'type': pd.api.types.CategoricalDtype(['unreliable', 'fake', 'clickbait', 'conspiracy', 'reliable', 'bias', 'hate', 'junksci', 'political'])}, usecols=[\"type\", \"content\"]\n",
    "ddf = ddf.dropna(subset=['type'])\n",
    "#Convert Type to Number\n",
    "#ddf['y_data'] = ddf.type.cat.codes\n",
    "ddf['y_data'] = ddf.type.apply(labelEncoder2, meta=('type', pd.api.types.CategoricalDtype(['unreliable', 'fake', 'clickbait', 'conspiracy', 'reliable', 'bias', 'hate', 'junksci', 'political'])))\n",
    "#Clean content\n",
    "ddf['content_clean'] = ddf.content.apply(clean_text, meta=('content', 'object'))\n",
    "#Tokenize content\n",
    "ddf['content_tokenized'] = ddf.content_clean.apply(word_tokenize, meta=('content_clean', 'object'))\n",
    "#Stopwords content\n",
    "ddf['content_stopwords'] = ddf.content_tokenized.apply(remove_stopwords, meta=('content_tokenized', 'object'))\n",
    "#Lemmetize content\n",
    "ddf['content_lemmetize'] = ddf.content_stopwords.apply(lemmatize, meta=('content_stopwords', 'object'))\n",
    "#Punctuation content(Cleaned Content)\n",
    "ddf['content_cleaned'] = ddf.content_lemmetize.apply(remove_punctuation, meta=('content_lemmetize', 'object'))\n",
    "#x_data content(Cleaned Content)\n",
    "ddf['x_data'] = ddf.content_cleaned.apply(lambda words: ' '.join(words), meta=('content_cleaned', 'object'))\n",
    "\n",
    "ProgressBar().register()"
   ]
  },
  {
   "cell_type": "code",
   "execution_count": 69,
   "metadata": {},
   "outputs": [
    {
     "name": "stdout",
     "output_type": "stream",
     "text": [
      "[########################################] | 100% Completed | 755.45 ms\n"
     ]
    }
   ],
   "source": [
    "result = ddf.compute()"
   ]
  },
  {
   "cell_type": "code",
   "execution_count": 71,
   "metadata": {},
   "outputs": [],
   "source": [
    "bow = bow_transformer(result.content_cleaned)"
   ]
  },
  {
   "cell_type": "code",
   "execution_count": 72,
   "metadata": {},
   "outputs": [
    {
     "name": "stdout",
     "output_type": "stream",
     "text": [
      "0.6078323221180364\n",
      "0.5464968152866242\n"
     ]
    }
   ],
   "source": [
    "predictions_dummy = model_used_dummy.predict(bow)\n",
    "predictions_logit = model_used_logit.predict(bow)\n",
    "print(f1_score(result.y_data, predictions_dummy))\n",
    "print(f1_score(result.y_data, predictions_logit))"
   ]
  }
 ],
 "metadata": {
  "kernelspec": {
   "display_name": "DS_FakeNews_Env",
   "language": "python",
   "name": "python3"
  },
  "language_info": {
   "codemirror_mode": {
    "name": "ipython",
    "version": 3
   },
   "file_extension": ".py",
   "mimetype": "text/x-python",
   "name": "python",
   "nbconvert_exporter": "python",
   "pygments_lexer": "ipython3",
   "version": "3.9.16"
  },
  "orig_nbformat": 4,
  "vscode": {
   "interpreter": {
    "hash": "b6d007b1d842072078b2a01295cdb8efac94b16f7396572fc99107a1b95f0415"
   }
  }
 },
 "nbformat": 4,
 "nbformat_minor": 2
}
