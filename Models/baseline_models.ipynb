{
 "cells": [
  {
   "cell_type": "code",
   "execution_count": 1,
   "metadata": {},
   "outputs": [],
   "source": [
    "from sklearn.dummy import DummyClassifier\n",
    "from sklearn.metrics import accuracy_score\n",
    "\n",
    "def dummy_model(X_train, y_train, X_test, y_test):\n",
    "    # making a baseline model\n",
    "\n",
    "    # create a dummy classifier\n",
    "    dummy_clf = DummyClassifier(strategy=\"most_frequent\")\n",
    "    # fit the classifier\n",
    "    dummy_clf.fit(X_train, y_train)\n",
    "\n",
    "    # predict the labels\n",
    "    y_pred = dummy_clf.predict(X_test)\n",
    "\n",
    "    # calculate the accuracy\n",
    "    print(accuracy_score(y_test, y_pred))\n",
    "\n",
    "    return dummy_clf"
   ]
  },
  {
   "cell_type": "code",
   "execution_count": 16,
   "metadata": {},
   "outputs": [],
   "source": [
    "from sklearn.linear_model import LogisticRegression\n",
    "from sklearn.metrics import accuracy_score\n",
    "def logistic_regression(X_train, y_train, X_test, y_test, solver, penalty, c):\n",
    "    # making a baseline model\n",
    "\n",
    "    # create a dummy classifier\n",
    "    dummy_clf = LogisticRegression(max_iter=10000, solver=solver, penalty=penalty, c=c)\n",
    "    # fit the classifier\n",
    "    dummy_clf.fit(X_train, y_train)\n",
    "\n",
    "    # predict the labels\n",
    "    y_pred = dummy_clf.predict(X_test)\n",
    "\n",
    "    # calculate the accuracy\n",
    "    print(f'Accuracy of {solver} with penalty {penalty} with c = {c}: {accuracy_score(y_test, y_pred)}')\n",
    "\n",
    "    return dummy_clf"
   ]
  },
  {
   "cell_type": "code",
   "execution_count": 17,
   "metadata": {},
   "outputs": [],
   "source": [
    "def logistic_regression_none(X_train, y_train, X_test, y_test, solver):\n",
    "    # making a baseline model\n",
    "\n",
    "    # create a dummy classifier\n",
    "    dummy_clf = LogisticRegression(max_iter=10000, solver=solver)\n",
    "    # fit the classifier\n",
    "    dummy_clf.fit(X_train, y_train)\n",
    "\n",
    "    # predict the labels\n",
    "    y_pred = dummy_clf.predict(X_test)\n",
    "\n",
    "    # calculate the accuracy\n",
    "    print(f'Accuracy of {solver} without penalty: {accuracy_score(y_test, y_pred)}')\n",
    "\n",
    "    return dummy_clf"
   ]
  },
  {
   "cell_type": "code",
   "execution_count": 4,
   "metadata": {},
   "outputs": [],
   "source": [
    "import pandas as pd\n",
    "import re\n",
    "def load_data(input, nrows=None, columns=None):\n",
    "    # load from csv\n",
    "    df = pd.read_csv(input, nrows=nrows, usecols=columns)\n",
    "    pattern = re.compile(r'(?:\\'|\")([a-z0-9\"\\.+-/_=:`|~©™®▪♦🙂 ]*)(?:\\'|\"),')\n",
    "    df['content'] = df['0'].apply(lambda x: pattern.findall(x))\n",
    "    df.drop(['0'], axis=1, inplace=True)\n",
    "    return df"
   ]
  },
  {
   "cell_type": "code",
   "execution_count": 5,
   "metadata": {},
   "outputs": [],
   "source": [
    "from sklearn.model_selection import train_test_split\n",
    "def split_data(input, answers, test_size=0.1, val_size=0.1):\n",
    "    # split the data into train and test\n",
    "    X_train, X_test, y_train, y_test = train_test_split(input, answers, test_size=test_size+val_size, random_state=42)\n",
    "    # split the test data into test and validation\n",
    "    X_test, X_val, y_test, y_val = train_test_split(X_test, y_test, test_size=val_size/(test_size+val_size), random_state=42)\n",
    "    return X_train, X_test, y_train, y_test, X_val, y_val"
   ]
  },
  {
   "cell_type": "code",
   "execution_count": 6,
   "metadata": {},
   "outputs": [],
   "source": [
    "def pad_series(series, maxlen):\n",
    "    # truncate the series\n",
    "    series = series.apply(lambda x: x[:maxlen])\n",
    "    # pad the series\n",
    "    return series.apply(lambda x: x + ['']*(maxlen-len(x)))"
   ]
  },
  {
   "cell_type": "code",
   "execution_count": 12,
   "metadata": {},
   "outputs": [],
   "source": [
    "def load_vocab(input):\n",
    "    vocab = pd.read_pickle('D:/Fake News Project/file.pkl')\n",
    "    # the vocab is a list of tuples (word, count)\n",
    "    # filter out words that appear less than 2000 times\n",
    "    vocab = [word for word, count in vocab if count > 2000]\n",
    "    return vocab"
   ]
  },
  {
   "cell_type": "code",
   "execution_count": 13,
   "metadata": {},
   "outputs": [],
   "source": [
    "from sklearn.feature_extraction.text import CountVectorizer\n",
    "bow_converter = CountVectorizer(vocabulary=load_vocab('D:/Fake News Project/file.pkl'))\n",
    "def bow_transformer(series):\n",
    "    # transform the series into bag of words\n",
    "    return bow_converter.transform(series.apply(lambda x: ' '.join(x)))\n",
    "\n",
    "\n"
   ]
  },
  {
   "cell_type": "code",
   "execution_count": 9,
   "metadata": {},
   "outputs": [],
   "source": [
    "#loading data\n",
    "df = load_data('D:/DS_fake_news/fake_news_cleaned_filtered.csv', nrows=10000)  \n"
   ]
  },
  {
   "cell_type": "code",
   "execution_count": 10,
   "metadata": {},
   "outputs": [],
   "source": [
    "types_df =  pd.read_csv('D:/DS_fake_news/fake_news_cleaned.csv', nrows=10000, usecols=['type'])\n",
    "df['type'] = types_df['type']"
   ]
  },
  {
   "cell_type": "code",
   "execution_count": 11,
   "metadata": {},
   "outputs": [],
   "source": [
    "# convert types to unique numbers\n",
    "df['type'] = df['type'].astype('category')\n",
    "df['type'] = df['type'].cat.codes"
   ]
  },
  {
   "cell_type": "code",
   "execution_count": 12,
   "metadata": {},
   "outputs": [],
   "source": [
    "bow = bow_transformer(df['content'])"
   ]
  },
  {
   "cell_type": "code",
   "execution_count": 13,
   "metadata": {},
   "outputs": [],
   "source": [
    "#splitting data\n",
    "X_train, X_test, y_train, y_test, X_val, y_val = split_data(bow, df['type'], test_size=0.1, val_size=0.1)"
   ]
  },
  {
   "cell_type": "code",
   "execution_count": 14,
   "metadata": {},
   "outputs": [],
   "source": [
    "#display(X_train.shape, X_test.shape, y_train.shape, y_test.shape, X_val.shape, y_val.shape)\n"
   ]
  },
  {
   "cell_type": "code",
   "execution_count": 15,
   "metadata": {},
   "outputs": [
    {
     "name": "stdout",
     "output_type": "stream",
     "text": [
      "0.16\n"
     ]
    },
    {
     "data": {
      "text/html": [
       "<style>#sk-container-id-1 {color: black;background-color: white;}#sk-container-id-1 pre{padding: 0;}#sk-container-id-1 div.sk-toggleable {background-color: white;}#sk-container-id-1 label.sk-toggleable__label {cursor: pointer;display: block;width: 100%;margin-bottom: 0;padding: 0.3em;box-sizing: border-box;text-align: center;}#sk-container-id-1 label.sk-toggleable__label-arrow:before {content: \"▸\";float: left;margin-right: 0.25em;color: #696969;}#sk-container-id-1 label.sk-toggleable__label-arrow:hover:before {color: black;}#sk-container-id-1 div.sk-estimator:hover label.sk-toggleable__label-arrow:before {color: black;}#sk-container-id-1 div.sk-toggleable__content {max-height: 0;max-width: 0;overflow: hidden;text-align: left;background-color: #f0f8ff;}#sk-container-id-1 div.sk-toggleable__content pre {margin: 0.2em;color: black;border-radius: 0.25em;background-color: #f0f8ff;}#sk-container-id-1 input.sk-toggleable__control:checked~div.sk-toggleable__content {max-height: 200px;max-width: 100%;overflow: auto;}#sk-container-id-1 input.sk-toggleable__control:checked~label.sk-toggleable__label-arrow:before {content: \"▾\";}#sk-container-id-1 div.sk-estimator input.sk-toggleable__control:checked~label.sk-toggleable__label {background-color: #d4ebff;}#sk-container-id-1 div.sk-label input.sk-toggleable__control:checked~label.sk-toggleable__label {background-color: #d4ebff;}#sk-container-id-1 input.sk-hidden--visually {border: 0;clip: rect(1px 1px 1px 1px);clip: rect(1px, 1px, 1px, 1px);height: 1px;margin: -1px;overflow: hidden;padding: 0;position: absolute;width: 1px;}#sk-container-id-1 div.sk-estimator {font-family: monospace;background-color: #f0f8ff;border: 1px dotted black;border-radius: 0.25em;box-sizing: border-box;margin-bottom: 0.5em;}#sk-container-id-1 div.sk-estimator:hover {background-color: #d4ebff;}#sk-container-id-1 div.sk-parallel-item::after {content: \"\";width: 100%;border-bottom: 1px solid gray;flex-grow: 1;}#sk-container-id-1 div.sk-label:hover label.sk-toggleable__label {background-color: #d4ebff;}#sk-container-id-1 div.sk-serial::before {content: \"\";position: absolute;border-left: 1px solid gray;box-sizing: border-box;top: 0;bottom: 0;left: 50%;z-index: 0;}#sk-container-id-1 div.sk-serial {display: flex;flex-direction: column;align-items: center;background-color: white;padding-right: 0.2em;padding-left: 0.2em;position: relative;}#sk-container-id-1 div.sk-item {position: relative;z-index: 1;}#sk-container-id-1 div.sk-parallel {display: flex;align-items: stretch;justify-content: center;background-color: white;position: relative;}#sk-container-id-1 div.sk-item::before, #sk-container-id-1 div.sk-parallel-item::before {content: \"\";position: absolute;border-left: 1px solid gray;box-sizing: border-box;top: 0;bottom: 0;left: 50%;z-index: -1;}#sk-container-id-1 div.sk-parallel-item {display: flex;flex-direction: column;z-index: 1;position: relative;background-color: white;}#sk-container-id-1 div.sk-parallel-item:first-child::after {align-self: flex-end;width: 50%;}#sk-container-id-1 div.sk-parallel-item:last-child::after {align-self: flex-start;width: 50%;}#sk-container-id-1 div.sk-parallel-item:only-child::after {width: 0;}#sk-container-id-1 div.sk-dashed-wrapped {border: 1px dashed gray;margin: 0 0.4em 0.5em 0.4em;box-sizing: border-box;padding-bottom: 0.4em;background-color: white;}#sk-container-id-1 div.sk-label label {font-family: monospace;font-weight: bold;display: inline-block;line-height: 1.2em;}#sk-container-id-1 div.sk-label-container {text-align: center;}#sk-container-id-1 div.sk-container {/* jupyter's `normalize.less` sets `[hidden] { display: none; }` but bootstrap.min.css set `[hidden] { display: none !important; }` so we also need the `!important` here to be able to override the default hidden behavior on the sphinx rendered scikit-learn.org. See: https://github.com/scikit-learn/scikit-learn/issues/21755 */display: inline-block !important;position: relative;}#sk-container-id-1 div.sk-text-repr-fallback {display: none;}</style><div id=\"sk-container-id-1\" class=\"sk-top-container\"><div class=\"sk-text-repr-fallback\"><pre>DummyClassifier(strategy=&#x27;most_frequent&#x27;)</pre><b>In a Jupyter environment, please rerun this cell to show the HTML representation or trust the notebook. <br />On GitHub, the HTML representation is unable to render, please try loading this page with nbviewer.org.</b></div><div class=\"sk-container\" hidden><div class=\"sk-item\"><div class=\"sk-estimator sk-toggleable\"><input class=\"sk-toggleable__control sk-hidden--visually\" id=\"sk-estimator-id-1\" type=\"checkbox\" checked><label for=\"sk-estimator-id-1\" class=\"sk-toggleable__label sk-toggleable__label-arrow\">DummyClassifier</label><div class=\"sk-toggleable__content\"><pre>DummyClassifier(strategy=&#x27;most_frequent&#x27;)</pre></div></div></div></div></div>"
      ],
      "text/plain": [
       "DummyClassifier(strategy='most_frequent')"
      ]
     },
     "execution_count": 15,
     "metadata": {},
     "output_type": "execute_result"
    }
   ],
   "source": [
    "dummy_model(X_train, y_train, X_test, y_test)"
   ]
  },
  {
   "cell_type": "code",
   "execution_count": 15,
   "metadata": {},
   "outputs": [
    {
     "ename": "SyntaxError",
     "evalue": "invalid syntax (2678607093.py, line 4)",
     "output_type": "error",
     "traceback": [
      "\u001b[1;36m  Cell \u001b[1;32mIn[15], line 4\u001b[1;36m\u001b[0m\n\u001b[1;33m    logistic_regression_none(X_train, y_train, X_test, y_test, 'lbfgs'):\u001b[0m\n\u001b[1;37m                                                                        ^\u001b[0m\n\u001b[1;31mSyntaxError\u001b[0m\u001b[1;31m:\u001b[0m invalid syntax\n"
     ]
    }
   ],
   "source": [
    "#logistic_regression(X_train, y_train, X_test, y_test, solver, penalty, c)\n",
    "#logistic_regression_none(X_train, y_train, X_test, y_test, solver):\n",
    "logistic_regression_none(X_train, y_train, X_test, y_test, 'lbfgs')\n",
    "logistic_regression(X_train, y_train, X_test, y_test, 'lbfgs', 'l2', 0.001)\n",
    "logistic_regression(X_train, y_train, X_test, y_test, 'lbfgs', 'l2', 0.01)\n",
    "logistic_regression(X_train, y_train, X_test, y_test, 'lbfgs', 'l2', 0.1)\n",
    "logistic_regression(X_train, y_train, X_test, y_test, 'lbfgs', 'l2', 1)\n",
    "logistic_regression_none(X_train, y_train, X_test, y_test, 'liblinear')\n",
    "logistic_regression(X_train, y_train, X_test, y_test, 'liblinear', 'l2', 0.001)\n",
    "logistic_regression(X_train, y_train, X_test, y_test, 'liblinear', 'l2', 0.01)\n",
    "logistic_regression(X_train, y_train, X_test, y_test, 'liblinear', 'l2', 0.1)\n",
    "logistic_regression(X_train, y_train, X_test, y_test, 'liblinear', 'l2', 1)\n",
    "logistic_regression_none(X_train, y_train, X_test, y_test, 'newton-cg')\n",
    "logistic_regression(X_train, y_train, X_test, y_test, 'newton-cg', 'l2', 0.001)\n",
    "logistic_regression(X_train, y_train, X_test, y_test, 'newton-cg', 'l2', 0.01)\n",
    "logistic_regression(X_train, y_train, X_test, y_test, 'newton-cg', 'l2', 0.1)\n",
    "logistic_regression(X_train, y_train, X_test, y_test, 'newton-cg', 'l2', 1)\n",
    "logistic_regression_none(X_train, y_train, X_test, y_test, 'newton-cholesky')\n",
    "logistic_regression(X_train, y_train, X_test, y_test, 'newton-cholesky', 'l2', 0.001)\n",
    "logistic_regression(X_train, y_train, X_test, y_test, 'newton-cholesky', 'l2', 0.01)\n",
    "logistic_regression(X_train, y_train, X_test, y_test, 'newton-cholesky', 'l2', 0.1)\n",
    "logistic_regression(X_train, y_train, X_test, y_test, 'newton-cholesky', 'l2', 1)\n",
    "logistic_regression_none(X_train, y_train, X_test, y_test, 'sag')\n",
    "logistic_regression(X_train, y_train, X_test, y_test, 'sag', 'l2', 0.001)\n",
    "logistic_regression(X_train, y_train, X_test, y_test, 'sag', 'l2', 0.01)\n",
    "logistic_regression(X_train, y_train, X_test, y_test, 'sag', 'l2', 0.1)\n",
    "logistic_regression(X_train, y_train, X_test, y_test, 'sag', 'l2', 1)\n",
    "logistic_regression_none(X_train, y_train, X_test, y_test, 'saga')\n",
    "logistic_regression(X_train, y_train, X_test, y_test, 'saga', 'l2', 0.001)\n",
    "logistic_regression(X_train, y_train, X_test, y_test, 'saga', 'l2', 0.01)\n",
    "logistic_regression(X_train, y_train, X_test, y_test, 'saga', 'l2', 0.1)\n",
    "logistic_regression(X_train, y_train, X_test, y_test, 'saga', 'l2', 1)"
   ]
  },
  {
   "cell_type": "code",
   "execution_count": null,
   "metadata": {},
   "outputs": [],
   "source": [
    "## some preprocessing scripts:\n",
    "# first lets run clean_text on the 'content' column\n",
    "from cleantext import clean\n",
    "def clean_text(s):\n",
    "    return clean(s,lower=True,                     # lowercase text\n",
    "        no_urls=True,                  # replace all URLs with a special token\n",
    "        no_emails=True,                # replace all email addresses with a special token\n",
    "        no_numbers=True,               # replace all numbers with a special token\n",
    "        replace_with_url=\"<URL>\",\n",
    "        replace_with_email=\"<EMAIL>\",\n",
    "        replace_with_number=\"<NUM>\",\n",
    "        lang=\"en\"                   \n",
    "    )\n",
    "\n",
    "\n",
    "# split the data in chunks and run in parallel\n",
    "from joblib import Parallel, delayed\n",
    "from os import cpu_count\n",
    "\n",
    "# run in parallel\n",
    "def run_parallel(df, n_jobs, func):\n",
    "    # call every element in the chunks in parallel\n",
    "    results = Parallel(n_jobs=n_jobs)(delayed(func)(element) for element in df)\n",
    "    return results\n",
    "\n",
    "\n",
    "# clean the text\n",
    "def clean_column(df):\n",
    "    n_jobs = cpu_count()\n",
    "    results = run_parallel(df, n_jobs, clean_text)\n",
    "    # replace column with cleaned text\n",
    "    return results\n",
    "\n",
    "\n",
    "from nltk.tokenize import word_tokenize\n",
    "# tokenize the text. run in parallel\n",
    "def tokenize_column(df):\n",
    "    # run the function on the data\n",
    "    n_jobs = cpu_count()\n",
    "    results = run_parallel(df['content'], n_jobs, word_tokenize)\n",
    "    \n",
    "    return results\n",
    "\n",
    "from nltk.corpus import stopwords\n",
    "# removing generic stopwords\n",
    "def remove_stopwords(df):\n",
    "    stop_words = set(stopwords.words('english'))\n",
    "\n",
    "    # remove stopwords from the text\n",
    "    def r(s):\n",
    "        return [w for w in s if not w in stop_words]\n",
    "\n",
    "    # run the function on the df\n",
    "    n_jobs = cpu_count()\n",
    "    results = run_parallel(df, n_jobs, r)\n",
    "\n",
    "    return results\n",
    "\n",
    "# %%\n",
    "# stemming the text\n",
    "from nltk.stem import PorterStemmer\n",
    "def stem_column(df):\n",
    "    # create a stemmer\n",
    "    ps = PorterStemmer()\n",
    "\n",
    "    # stem the text\n",
    "    def stem(s):\n",
    "        return [ps.stem(w) for w in s]\n",
    "\n",
    "    # run the function on the df\n",
    "    n_jobs = cpu_count()\n",
    "    results = run_parallel(df, n_jobs, stem)\n",
    "    return results\n",
    "\n",
    "# %%\n",
    "# remove punctiuation\n",
    "import string\n",
    "def remove_punctuation(df):\n",
    "    # remove punctuation\n",
    "    def remove_punct(s):\n",
    "        return [w for w in s if w not in string.punctuation]\n",
    "\n",
    "    # run the function on the df\n",
    "    n_jobs = cpu_count()\n",
    "    results = run_parallel(df, n_jobs, remove_punct)\n",
    "    return results"
   ]
  },
  {
   "cell_type": "code",
   "execution_count": null,
   "metadata": {},
   "outputs": [],
   "source": [
    "# load in the LIAR dataset\n",
    "import pandas as pd\n",
    "df = pd.read_csv('E:/ML/DS_fake_news/train.tsv', sep='\\t', header=None, usecols=[1,2])\n",
    "liar_labels = {\n",
    "    'false': 1,\n",
    "    'pants-fire': 1,\n",
    "    'barely-true': 1,\n",
    "    'mostly-true': 0,\n",
    "    'true': 0,\n",
    "    'half-true': 0\n",
    "}\n",
    "df[1] = df[1].map(liar_labels)"
   ]
  },
  {
   "cell_type": "code",
   "execution_count": null,
   "metadata": {},
   "outputs": [],
   "source": [
    "# rename the columns\n",
    "df.columns = ['type', 'content']"
   ]
  },
  {
   "cell_type": "code",
   "execution_count": null,
   "metadata": {},
   "outputs": [],
   "source": [
    "df['content'] = clean_column(df['content'])\n",
    "df['content'] = tokenize_column(df)\n",
    "df['content'] = remove_stopwords(df['content'])\n",
    "df['content'] = stem_column(df['content'])\n",
    "df['content'] = remove_punctuation(df['content'])\n"
   ]
  }
 ],
 "metadata": {
  "kernelspec": {
   "display_name": "fakeNewsProject",
   "language": "python",
   "name": "python3"
  },
  "language_info": {
   "codemirror_mode": {
    "name": "ipython",
    "version": 3
   },
   "file_extension": ".py",
   "mimetype": "text/x-python",
   "name": "python",
   "nbconvert_exporter": "python",
   "pygments_lexer": "ipython3",
   "version": "3.9.16"
  },
  "orig_nbformat": 4
 },
 "nbformat": 4,
 "nbformat_minor": 2
}
