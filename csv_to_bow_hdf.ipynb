{
 "cells": [
  {
   "cell_type": "code",
   "execution_count": 1,
   "metadata": {},
   "outputs": [],
   "source": [
    "#csv file in chunks\n",
    "import pandas as pd\n",
    "\n",
    "df = pd.read_csv('fake_news_cleaned.csv', parse_dates=['scraped_at', 'inserted_at', 'updated_at'], chunksize=1000)"
   ]
  },
  {
   "cell_type": "code",
   "execution_count": null,
   "metadata": {},
   "outputs": [],
   "source": [
    "import swifter\n",
    "# save each chunk to hdf file\n",
    "for i, chunk in enumerate(df):\n",
    "\n",
    "    # Drop the unnecessary columns\n",
    "    chunk = chunk['content']\n",
    "\n",
    "    # save to file. Append if file exists, otherwise create new file using format='table'\n",
    "    if i == 0:\n",
    "        chunk.to_hdf('fake_news_cleaned.hdf', key='df', mode='w')\n",
    "    else:\n",
    "        chunk.to_hdf('fake_news_cleaned.hdf', key='df', mode='a')\n",
    "\n",
    "    # print progress\n",
    "    print('processed {} rows'.format((i+1)*100000))"
   ]
  }
 ],
 "metadata": {
  "kernelspec": {
   "display_name": "fakeNewsProject",
   "language": "python",
   "name": "python3"
  },
  "language_info": {
   "codemirror_mode": {
    "name": "ipython",
    "version": 3
   },
   "file_extension": ".py",
   "mimetype": "text/x-python",
   "name": "python",
   "nbconvert_exporter": "python",
   "pygments_lexer": "ipython3",
   "version": "3.9.16"
  },
  "orig_nbformat": 4
 },
 "nbformat": 4,
 "nbformat_minor": 2
}
