{
 "cells": [
  {
   "cell_type": "code",
   "execution_count": 1,
   "metadata": {},
   "outputs": [],
   "source": [
    "import pandas as pd"
   ]
  },
  {
   "cell_type": "code",
   "execution_count": 2,
   "metadata": {},
   "outputs": [],
   "source": []
  },
  {
   "cell_type": "code",
   "execution_count": 3,
   "metadata": {},
   "outputs": [],
   "source": [
    "labels = ['fake', 'junksci', 'bias', 'unknown', 'conspiracy',\n",
    "       'political', 'unreliable', 'hate', 'clickbait', 'reliable',\n",
    "       'rumor', 'satire']"
   ]
  },
  {
   "cell_type": "code",
   "execution_count": 36,
   "metadata": {},
   "outputs": [],
   "source": [
    "\n",
    "df = pd.read_csv('E:/ML/fake_news_data/news.csv/news_cleaned_2018_02_13.csv', chunksize=1000, index_col=0, lineterminator='\\n')"
   ]
  },
  {
   "cell_type": "code",
   "execution_count": 30,
   "metadata": {},
   "outputs": [
    {
     "name": "stdout",
     "output_type": "stream",
     "text": [
      "8528956\n"
     ]
    }
   ],
   "source": [
    "rows_number = 0\n",
    "for chunk in df:\n",
    "    rows_number += len(chunk)\n",
    "\n",
    "print(rows_number)\n"
   ]
  },
  {
   "cell_type": "code",
   "execution_count": 37,
   "metadata": {},
   "outputs": [],
   "source": [
    "import concurrent.futures\n",
    "import os\n",
    "\n",
    "# Create a thread pool\n",
    "# Submit the generate_dataset function for each chunk of article links\n",
    "\n",
    "def start_thread(chunk):\n",
    "    executor = ThreadPoolExecutor(max_workers=threads)\n",
    "    futures = executor.submit(lambda x : len(x), chunk)\n",
    "    executor.shutdown(wait=True)\n",
    "    return(futures)\n",
    "\n",
    "for chunk in df:\n",
    "    futures = start_thread(chunk)"
   ]
  }
 ],
 "metadata": {
  "kernelspec": {
   "display_name": "fakeNewsProject",
   "language": "python",
   "name": "python3"
  },
  "language_info": {
   "codemirror_mode": {
    "name": "ipython",
    "version": 3
   },
   "file_extension": ".py",
   "mimetype": "text/x-python",
   "name": "python",
   "nbconvert_exporter": "python",
   "pygments_lexer": "ipython3",
   "version": "3.9.16"
  },
  "orig_nbformat": 4
 },
 "nbformat": 4,
 "nbformat_minor": 2
}
